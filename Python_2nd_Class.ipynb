{
  "nbformat": 4,
  "nbformat_minor": 0,
  "metadata": {
    "colab": {
      "name": "Python_2nd_Class.ipynb",
      "provenance": [],
      "collapsed_sections": [],
      "authorship_tag": "ABX9TyPgCvaCYd4SwkD1+v/VTY0Q",
      "include_colab_link": true
    },
    "kernelspec": {
      "name": "python3",
      "display_name": "Python 3"
    },
    "language_info": {
      "name": "python"
    }
  },
  "cells": [
    {
      "cell_type": "markdown",
      "metadata": {
        "id": "view-in-github",
        "colab_type": "text"
      },
      "source": [
        "<a href=\"https://colab.research.google.com/github/mdrashedulhasan1/K-Python-2nd-class-code/blob/main/Python_2nd_Class.ipynb\" target=\"_parent\"><img src=\"https://colab.research.google.com/assets/colab-badge.svg\" alt=\"Open In Colab\"/></a>"
      ]
    },
    {
      "cell_type": "code",
      "metadata": {
        "colab": {
          "base_uri": "https://localhost:8080/"
        },
        "id": "hAQAz8hun7D7",
        "outputId": "72069d61-3feb-4998-83a1-73540ccff011"
      },
      "source": [
        "#String\n",
        "# print(\"Hello\"[3])\n",
        "# print(\"1234\"[2])\n",
        "\n",
        "# print(\"123 \" + \"Three numbers\")\n",
        "\n",
        "#Integer\n",
        "# print(123 + 456)\n",
        "# print(123_234_234)\n",
        "\n",
        "#Float\n",
        "# print(254.5567)\n",
        "\n",
        "#Boolean\n",
        "# True\n",
        "# False\n",
        "\n",
        "10-5\n",
        "7-2\n",
        "2*3\n",
        "6/3\n",
        "3**2\n",
        "\n",
        "# PEMDAS\n",
        "# Parentheses ()\n",
        "# Exponents **\n",
        "# Multiplication *\n",
        "# Division /\n",
        "# Adding +\n",
        "# Subtraction - \n",
        "\n",
        "# print(2*2+2/2-2)  #3\n",
        "# print(2*(2+2)/2-2)  #2\n",
        "\n",
        "# id = 12\n",
        "# taka = 45.3567\n",
        "# isYourBalance = True\n",
        "# print(f\"My id is {id},Amounts {taka}, It's {isYourBalance}\")\n",
        "\n",
        "# x = str(123)\n",
        "# print(type(x))\n",
        "\n",
        "# x = int(3124.456)\n",
        "# print(type(x))\n",
        "\n",
        "# x = 2435.5575687\n",
        "# print(round(x,2))\n",
        "\n",
        "# two_digit_number = input(\"Enter two digit: \") #56\n",
        "# first_digit = two_digit_number[0]\n",
        "# second_digit = two_digit_number[1]\n",
        "# results = int(first_digit) + int(second_digit)\n",
        "# print(results)\n",
        "\n",
        "\n"
      ],
      "execution_count": 33,
      "outputs": [
        {
          "output_type": "stream",
          "name": "stdout",
          "text": [
            "Enter two digit: 94\n",
            "13\n"
          ]
        }
      ]
    }
  ]
}